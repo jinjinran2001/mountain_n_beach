{
  "nbformat": 4,
  "nbformat_minor": 0,
  "metadata": {
    "colab": {
      "provenance": []
    },
    "kernelspec": {
      "name": "python3",
      "display_name": "Python 3"
    },
    "language_info": {
      "name": "python"
    }
  },
  "cells": [
    {
      "cell_type": "code",
      "execution_count": 1,
      "metadata": {
        "id": "bOBso4srhxdf"
      },
      "outputs": [],
      "source": [
        "import numpy as np\n",
        "import pandas as pd\n",
        "import matplotlib.pyplot as plt\n",
        "import seaborn as sns"
      ]
    },
    {
      "cell_type": "code",
      "source": [
        "dataset = /content/'mountains_vs_beaches_preferences.csv'\n",
        "df = pd.read_csv(dataset)"
      ],
      "metadata": {
        "id": "xu7C9CWxh4jV"
      },
      "execution_count": 2,
      "outputs": []
    },
    {
      "cell_type": "code",
      "source": [
        "df.head()"
      ],
      "metadata": {
        "colab": {
          "base_uri": "https://localhost:8080/",
          "height": 243
        },
        "id": "Da3OrH2Yh_22",
        "outputId": "62768255-5018-4624-a5c1-081718184393"
      },
      "execution_count": 3,
      "outputs": [
        {
          "output_type": "execute_result",
          "data": {
            "text/plain": [
              "   Age      Gender  Income Education_Level  Travel_Frequency  \\\n",
              "0   56        male   71477        bachelor                 9   \n",
              "1   69        male   88740          master                 1   \n",
              "2   46      female   46562          master                 0   \n",
              "3   32  non-binary   99044     high school                 6   \n",
              "4   60      female  106583     high school                 5   \n",
              "\n",
              "  Preferred_Activities  Vacation_Budget  Location  Proximity_to_Mountains  \\\n",
              "0               skiing             2477     urban                     175   \n",
              "1             swimming             4777  suburban                     228   \n",
              "2               skiing             1469     urban                      71   \n",
              "3               hiking             1482     rural                      31   \n",
              "4           sunbathing              516  suburban                      23   \n",
              "\n",
              "   Proximity_to_Beaches Favorite_Season  Pets  Environmental_Concerns  \\\n",
              "0                   267          summer     0                       1   \n",
              "1                   190            fall     0                       1   \n",
              "2                   280          winter     0                       0   \n",
              "3                   255          summer     1                       0   \n",
              "4                   151          winter     1                       1   \n",
              "\n",
              "   Preference  \n",
              "0           1  \n",
              "1           0  \n",
              "2           1  \n",
              "3           1  \n",
              "4           0  "
            ],
            "text/html": [
              "\n",
              "  <div id=\"df-8ca32927-b680-4bc1-82a0-6a67a31c1f85\" class=\"colab-df-container\">\n",
              "    <div>\n",
              "<style scoped>\n",
              "    .dataframe tbody tr th:only-of-type {\n",
              "        vertical-align: middle;\n",
              "    }\n",
              "\n",
              "    .dataframe tbody tr th {\n",
              "        vertical-align: top;\n",
              "    }\n",
              "\n",
              "    .dataframe thead th {\n",
              "        text-align: right;\n",
              "    }\n",
              "</style>\n",
              "<table border=\"1\" class=\"dataframe\">\n",
              "  <thead>\n",
              "    <tr style=\"text-align: right;\">\n",
              "      <th></th>\n",
              "      <th>Age</th>\n",
              "      <th>Gender</th>\n",
              "      <th>Income</th>\n",
              "      <th>Education_Level</th>\n",
              "      <th>Travel_Frequency</th>\n",
              "      <th>Preferred_Activities</th>\n",
              "      <th>Vacation_Budget</th>\n",
              "      <th>Location</th>\n",
              "      <th>Proximity_to_Mountains</th>\n",
              "      <th>Proximity_to_Beaches</th>\n",
              "      <th>Favorite_Season</th>\n",
              "      <th>Pets</th>\n",
              "      <th>Environmental_Concerns</th>\n",
              "      <th>Preference</th>\n",
              "    </tr>\n",
              "  </thead>\n",
              "  <tbody>\n",
              "    <tr>\n",
              "      <th>0</th>\n",
              "      <td>56</td>\n",
              "      <td>male</td>\n",
              "      <td>71477</td>\n",
              "      <td>bachelor</td>\n",
              "      <td>9</td>\n",
              "      <td>skiing</td>\n",
              "      <td>2477</td>\n",
              "      <td>urban</td>\n",
              "      <td>175</td>\n",
              "      <td>267</td>\n",
              "      <td>summer</td>\n",
              "      <td>0</td>\n",
              "      <td>1</td>\n",
              "      <td>1</td>\n",
              "    </tr>\n",
              "    <tr>\n",
              "      <th>1</th>\n",
              "      <td>69</td>\n",
              "      <td>male</td>\n",
              "      <td>88740</td>\n",
              "      <td>master</td>\n",
              "      <td>1</td>\n",
              "      <td>swimming</td>\n",
              "      <td>4777</td>\n",
              "      <td>suburban</td>\n",
              "      <td>228</td>\n",
              "      <td>190</td>\n",
              "      <td>fall</td>\n",
              "      <td>0</td>\n",
              "      <td>1</td>\n",
              "      <td>0</td>\n",
              "    </tr>\n",
              "    <tr>\n",
              "      <th>2</th>\n",
              "      <td>46</td>\n",
              "      <td>female</td>\n",
              "      <td>46562</td>\n",
              "      <td>master</td>\n",
              "      <td>0</td>\n",
              "      <td>skiing</td>\n",
              "      <td>1469</td>\n",
              "      <td>urban</td>\n",
              "      <td>71</td>\n",
              "      <td>280</td>\n",
              "      <td>winter</td>\n",
              "      <td>0</td>\n",
              "      <td>0</td>\n",
              "      <td>1</td>\n",
              "    </tr>\n",
              "    <tr>\n",
              "      <th>3</th>\n",
              "      <td>32</td>\n",
              "      <td>non-binary</td>\n",
              "      <td>99044</td>\n",
              "      <td>high school</td>\n",
              "      <td>6</td>\n",
              "      <td>hiking</td>\n",
              "      <td>1482</td>\n",
              "      <td>rural</td>\n",
              "      <td>31</td>\n",
              "      <td>255</td>\n",
              "      <td>summer</td>\n",
              "      <td>1</td>\n",
              "      <td>0</td>\n",
              "      <td>1</td>\n",
              "    </tr>\n",
              "    <tr>\n",
              "      <th>4</th>\n",
              "      <td>60</td>\n",
              "      <td>female</td>\n",
              "      <td>106583</td>\n",
              "      <td>high school</td>\n",
              "      <td>5</td>\n",
              "      <td>sunbathing</td>\n",
              "      <td>516</td>\n",
              "      <td>suburban</td>\n",
              "      <td>23</td>\n",
              "      <td>151</td>\n",
              "      <td>winter</td>\n",
              "      <td>1</td>\n",
              "      <td>1</td>\n",
              "      <td>0</td>\n",
              "    </tr>\n",
              "  </tbody>\n",
              "</table>\n",
              "</div>\n",
              "    <div class=\"colab-df-buttons\">\n",
              "\n",
              "  <div class=\"colab-df-container\">\n",
              "    <button class=\"colab-df-convert\" onclick=\"convertToInteractive('df-8ca32927-b680-4bc1-82a0-6a67a31c1f85')\"\n",
              "            title=\"Convert this dataframe to an interactive table.\"\n",
              "            style=\"display:none;\">\n",
              "\n",
              "  <svg xmlns=\"http://www.w3.org/2000/svg\" height=\"24px\" viewBox=\"0 -960 960 960\">\n",
              "    <path d=\"M120-120v-720h720v720H120Zm60-500h600v-160H180v160Zm220 220h160v-160H400v160Zm0 220h160v-160H400v160ZM180-400h160v-160H180v160Zm440 0h160v-160H620v160ZM180-180h160v-160H180v160Zm440 0h160v-160H620v160Z\"/>\n",
              "  </svg>\n",
              "    </button>\n",
              "\n",
              "  <style>\n",
              "    .colab-df-container {\n",
              "      display:flex;\n",
              "      gap: 12px;\n",
              "    }\n",
              "\n",
              "    .colab-df-convert {\n",
              "      background-color: #E8F0FE;\n",
              "      border: none;\n",
              "      border-radius: 50%;\n",
              "      cursor: pointer;\n",
              "      display: none;\n",
              "      fill: #1967D2;\n",
              "      height: 32px;\n",
              "      padding: 0 0 0 0;\n",
              "      width: 32px;\n",
              "    }\n",
              "\n",
              "    .colab-df-convert:hover {\n",
              "      background-color: #E2EBFA;\n",
              "      box-shadow: 0px 1px 2px rgba(60, 64, 67, 0.3), 0px 1px 3px 1px rgba(60, 64, 67, 0.15);\n",
              "      fill: #174EA6;\n",
              "    }\n",
              "\n",
              "    .colab-df-buttons div {\n",
              "      margin-bottom: 4px;\n",
              "    }\n",
              "\n",
              "    [theme=dark] .colab-df-convert {\n",
              "      background-color: #3B4455;\n",
              "      fill: #D2E3FC;\n",
              "    }\n",
              "\n",
              "    [theme=dark] .colab-df-convert:hover {\n",
              "      background-color: #434B5C;\n",
              "      box-shadow: 0px 1px 3px 1px rgba(0, 0, 0, 0.15);\n",
              "      filter: drop-shadow(0px 1px 2px rgba(0, 0, 0, 0.3));\n",
              "      fill: #FFFFFF;\n",
              "    }\n",
              "  </style>\n",
              "\n",
              "    <script>\n",
              "      const buttonEl =\n",
              "        document.querySelector('#df-8ca32927-b680-4bc1-82a0-6a67a31c1f85 button.colab-df-convert');\n",
              "      buttonEl.style.display =\n",
              "        google.colab.kernel.accessAllowed ? 'block' : 'none';\n",
              "\n",
              "      async function convertToInteractive(key) {\n",
              "        const element = document.querySelector('#df-8ca32927-b680-4bc1-82a0-6a67a31c1f85');\n",
              "        const dataTable =\n",
              "          await google.colab.kernel.invokeFunction('convertToInteractive',\n",
              "                                                    [key], {});\n",
              "        if (!dataTable) return;\n",
              "\n",
              "        const docLinkHtml = 'Like what you see? Visit the ' +\n",
              "          '<a target=\"_blank\" href=https://colab.research.google.com/notebooks/data_table.ipynb>data table notebook</a>'\n",
              "          + ' to learn more about interactive tables.';\n",
              "        element.innerHTML = '';\n",
              "        dataTable['output_type'] = 'display_data';\n",
              "        await google.colab.output.renderOutput(dataTable, element);\n",
              "        const docLink = document.createElement('div');\n",
              "        docLink.innerHTML = docLinkHtml;\n",
              "        element.appendChild(docLink);\n",
              "      }\n",
              "    </script>\n",
              "  </div>\n",
              "\n",
              "\n",
              "<div id=\"df-0f605c0c-c230-4cd1-9598-aa6e83f2bcbd\">\n",
              "  <button class=\"colab-df-quickchart\" onclick=\"quickchart('df-0f605c0c-c230-4cd1-9598-aa6e83f2bcbd')\"\n",
              "            title=\"Suggest charts\"\n",
              "            style=\"display:none;\">\n",
              "\n",
              "<svg xmlns=\"http://www.w3.org/2000/svg\" height=\"24px\"viewBox=\"0 0 24 24\"\n",
              "     width=\"24px\">\n",
              "    <g>\n",
              "        <path d=\"M19 3H5c-1.1 0-2 .9-2 2v14c0 1.1.9 2 2 2h14c1.1 0 2-.9 2-2V5c0-1.1-.9-2-2-2zM9 17H7v-7h2v7zm4 0h-2V7h2v10zm4 0h-2v-4h2v4z\"/>\n",
              "    </g>\n",
              "</svg>\n",
              "  </button>\n",
              "\n",
              "<style>\n",
              "  .colab-df-quickchart {\n",
              "      --bg-color: #E8F0FE;\n",
              "      --fill-color: #1967D2;\n",
              "      --hover-bg-color: #E2EBFA;\n",
              "      --hover-fill-color: #174EA6;\n",
              "      --disabled-fill-color: #AAA;\n",
              "      --disabled-bg-color: #DDD;\n",
              "  }\n",
              "\n",
              "  [theme=dark] .colab-df-quickchart {\n",
              "      --bg-color: #3B4455;\n",
              "      --fill-color: #D2E3FC;\n",
              "      --hover-bg-color: #434B5C;\n",
              "      --hover-fill-color: #FFFFFF;\n",
              "      --disabled-bg-color: #3B4455;\n",
              "      --disabled-fill-color: #666;\n",
              "  }\n",
              "\n",
              "  .colab-df-quickchart {\n",
              "    background-color: var(--bg-color);\n",
              "    border: none;\n",
              "    border-radius: 50%;\n",
              "    cursor: pointer;\n",
              "    display: none;\n",
              "    fill: var(--fill-color);\n",
              "    height: 32px;\n",
              "    padding: 0;\n",
              "    width: 32px;\n",
              "  }\n",
              "\n",
              "  .colab-df-quickchart:hover {\n",
              "    background-color: var(--hover-bg-color);\n",
              "    box-shadow: 0 1px 2px rgba(60, 64, 67, 0.3), 0 1px 3px 1px rgba(60, 64, 67, 0.15);\n",
              "    fill: var(--button-hover-fill-color);\n",
              "  }\n",
              "\n",
              "  .colab-df-quickchart-complete:disabled,\n",
              "  .colab-df-quickchart-complete:disabled:hover {\n",
              "    background-color: var(--disabled-bg-color);\n",
              "    fill: var(--disabled-fill-color);\n",
              "    box-shadow: none;\n",
              "  }\n",
              "\n",
              "  .colab-df-spinner {\n",
              "    border: 2px solid var(--fill-color);\n",
              "    border-color: transparent;\n",
              "    border-bottom-color: var(--fill-color);\n",
              "    animation:\n",
              "      spin 1s steps(1) infinite;\n",
              "  }\n",
              "\n",
              "  @keyframes spin {\n",
              "    0% {\n",
              "      border-color: transparent;\n",
              "      border-bottom-color: var(--fill-color);\n",
              "      border-left-color: var(--fill-color);\n",
              "    }\n",
              "    20% {\n",
              "      border-color: transparent;\n",
              "      border-left-color: var(--fill-color);\n",
              "      border-top-color: var(--fill-color);\n",
              "    }\n",
              "    30% {\n",
              "      border-color: transparent;\n",
              "      border-left-color: var(--fill-color);\n",
              "      border-top-color: var(--fill-color);\n",
              "      border-right-color: var(--fill-color);\n",
              "    }\n",
              "    40% {\n",
              "      border-color: transparent;\n",
              "      border-right-color: var(--fill-color);\n",
              "      border-top-color: var(--fill-color);\n",
              "    }\n",
              "    60% {\n",
              "      border-color: transparent;\n",
              "      border-right-color: var(--fill-color);\n",
              "    }\n",
              "    80% {\n",
              "      border-color: transparent;\n",
              "      border-right-color: var(--fill-color);\n",
              "      border-bottom-color: var(--fill-color);\n",
              "    }\n",
              "    90% {\n",
              "      border-color: transparent;\n",
              "      border-bottom-color: var(--fill-color);\n",
              "    }\n",
              "  }\n",
              "</style>\n",
              "\n",
              "  <script>\n",
              "    async function quickchart(key) {\n",
              "      const quickchartButtonEl =\n",
              "        document.querySelector('#' + key + ' button');\n",
              "      quickchartButtonEl.disabled = true;  // To prevent multiple clicks.\n",
              "      quickchartButtonEl.classList.add('colab-df-spinner');\n",
              "      try {\n",
              "        const charts = await google.colab.kernel.invokeFunction(\n",
              "            'suggestCharts', [key], {});\n",
              "      } catch (error) {\n",
              "        console.error('Error during call to suggestCharts:', error);\n",
              "      }\n",
              "      quickchartButtonEl.classList.remove('colab-df-spinner');\n",
              "      quickchartButtonEl.classList.add('colab-df-quickchart-complete');\n",
              "    }\n",
              "    (() => {\n",
              "      let quickchartButtonEl =\n",
              "        document.querySelector('#df-0f605c0c-c230-4cd1-9598-aa6e83f2bcbd button');\n",
              "      quickchartButtonEl.style.display =\n",
              "        google.colab.kernel.accessAllowed ? 'block' : 'none';\n",
              "    })();\n",
              "  </script>\n",
              "</div>\n",
              "\n",
              "    </div>\n",
              "  </div>\n"
            ],
            "application/vnd.google.colaboratory.intrinsic+json": {
              "type": "dataframe",
              "variable_name": "df",
              "summary": "{\n  \"name\": \"df\",\n  \"rows\": 52444,\n  \"fields\": [\n    {\n      \"column\": \"Age\",\n      \"properties\": {\n        \"dtype\": \"number\",\n        \"std\": 14,\n        \"min\": 18,\n        \"max\": 69,\n        \"num_unique_values\": 52,\n        \"samples\": [\n          50,\n          51,\n          18\n        ],\n        \"semantic_type\": \"\",\n        \"description\": \"\"\n      }\n    },\n    {\n      \"column\": \"Gender\",\n      \"properties\": {\n        \"dtype\": \"category\",\n        \"num_unique_values\": 3,\n        \"samples\": [\n          \"male\",\n          \"female\",\n          \"non-binary\"\n        ],\n        \"semantic_type\": \"\",\n        \"description\": \"\"\n      }\n    },\n    {\n      \"column\": \"Income\",\n      \"properties\": {\n        \"dtype\": \"number\",\n        \"std\": 28847,\n        \"min\": 20001,\n        \"max\": 119999,\n        \"num_unique_values\": 40983,\n        \"samples\": [\n          82041,\n          67365,\n          23353\n        ],\n        \"semantic_type\": \"\",\n        \"description\": \"\"\n      }\n    },\n    {\n      \"column\": \"Education_Level\",\n      \"properties\": {\n        \"dtype\": \"category\",\n        \"num_unique_values\": 4,\n        \"samples\": [\n          \"master\",\n          \"doctorate\",\n          \"bachelor\"\n        ],\n        \"semantic_type\": \"\",\n        \"description\": \"\"\n      }\n    },\n    {\n      \"column\": \"Travel_Frequency\",\n      \"properties\": {\n        \"dtype\": \"number\",\n        \"std\": 2,\n        \"min\": 0,\n        \"max\": 9,\n        \"num_unique_values\": 10,\n        \"samples\": [\n          7,\n          1,\n          3\n        ],\n        \"semantic_type\": \"\",\n        \"description\": \"\"\n      }\n    },\n    {\n      \"column\": \"Preferred_Activities\",\n      \"properties\": {\n        \"dtype\": \"category\",\n        \"num_unique_values\": 4,\n        \"samples\": [\n          \"swimming\",\n          \"sunbathing\",\n          \"skiing\"\n        ],\n        \"semantic_type\": \"\",\n        \"description\": \"\"\n      }\n    },\n    {\n      \"column\": \"Vacation_Budget\",\n      \"properties\": {\n        \"dtype\": \"number\",\n        \"std\": 1296,\n        \"min\": 500,\n        \"max\": 4999,\n        \"num_unique_values\": 4500,\n        \"samples\": [\n          3249,\n          3422,\n          3174\n        ],\n        \"semantic_type\": \"\",\n        \"description\": \"\"\n      }\n    },\n    {\n      \"column\": \"Location\",\n      \"properties\": {\n        \"dtype\": \"category\",\n        \"num_unique_values\": 3,\n        \"samples\": [\n          \"urban\",\n          \"suburban\",\n          \"rural\"\n        ],\n        \"semantic_type\": \"\",\n        \"description\": \"\"\n      }\n    },\n    {\n      \"column\": \"Proximity_to_Mountains\",\n      \"properties\": {\n        \"dtype\": \"number\",\n        \"std\": 86,\n        \"min\": 0,\n        \"max\": 299,\n        \"num_unique_values\": 300,\n        \"samples\": [\n          58,\n          272,\n          148\n        ],\n        \"semantic_type\": \"\",\n        \"description\": \"\"\n      }\n    },\n    {\n      \"column\": \"Proximity_to_Beaches\",\n      \"properties\": {\n        \"dtype\": \"number\",\n        \"std\": 86,\n        \"min\": 0,\n        \"max\": 299,\n        \"num_unique_values\": 300,\n        \"samples\": [\n          123,\n          87,\n          145\n        ],\n        \"semantic_type\": \"\",\n        \"description\": \"\"\n      }\n    },\n    {\n      \"column\": \"Favorite_Season\",\n      \"properties\": {\n        \"dtype\": \"category\",\n        \"num_unique_values\": 4,\n        \"samples\": [\n          \"fall\",\n          \"spring\",\n          \"summer\"\n        ],\n        \"semantic_type\": \"\",\n        \"description\": \"\"\n      }\n    },\n    {\n      \"column\": \"Pets\",\n      \"properties\": {\n        \"dtype\": \"number\",\n        \"std\": 0,\n        \"min\": 0,\n        \"max\": 1,\n        \"num_unique_values\": 2,\n        \"samples\": [\n          1,\n          0\n        ],\n        \"semantic_type\": \"\",\n        \"description\": \"\"\n      }\n    },\n    {\n      \"column\": \"Environmental_Concerns\",\n      \"properties\": {\n        \"dtype\": \"number\",\n        \"std\": 0,\n        \"min\": 0,\n        \"max\": 1,\n        \"num_unique_values\": 2,\n        \"samples\": [\n          0,\n          1\n        ],\n        \"semantic_type\": \"\",\n        \"description\": \"\"\n      }\n    },\n    {\n      \"column\": \"Preference\",\n      \"properties\": {\n        \"dtype\": \"number\",\n        \"std\": 0,\n        \"min\": 0,\n        \"max\": 1,\n        \"num_unique_values\": 2,\n        \"samples\": [\n          0,\n          1\n        ],\n        \"semantic_type\": \"\",\n        \"description\": \"\"\n      }\n    }\n  ]\n}"
            }
          },
          "metadata": {},
          "execution_count": 3
        }
      ]
    },
    {
      "cell_type": "code",
      "source": [
        "missing_data = df.isnull().sum()\n",
        "print(missing_data)"
      ],
      "metadata": {
        "colab": {
          "base_uri": "https://localhost:8080/"
        },
        "id": "cVN0wrlAiFSE",
        "outputId": "0bf99059-33e9-42a1-a8a0-c21658bee80c"
      },
      "execution_count": 4,
      "outputs": [
        {
          "output_type": "stream",
          "name": "stdout",
          "text": [
            "Age                       0\n",
            "Gender                    0\n",
            "Income                    0\n",
            "Education_Level           0\n",
            "Travel_Frequency          0\n",
            "Preferred_Activities      0\n",
            "Vacation_Budget           0\n",
            "Location                  0\n",
            "Proximity_to_Mountains    0\n",
            "Proximity_to_Beaches      0\n",
            "Favorite_Season           0\n",
            "Pets                      0\n",
            "Environmental_Concerns    0\n",
            "Preference                0\n",
            "dtype: int64\n"
          ]
        }
      ]
    },
    {
      "cell_type": "code",
      "source": [
        "# Group \"Summer\" and \"Other Seasons\"\n",
        "df['Season_Group'] = df['Favorite_Season'].apply(lambda x: 'Summer' if x == 'summer' else 'Other Seasons')\n",
        "# Verify the grouping\n",
        "season_group_counts = df['Season_Group'].value_counts()\n",
        "print(season_group_counts)"
      ],
      "metadata": {
        "colab": {
          "base_uri": "https://localhost:8080/"
        },
        "id": "cAIWX8rWi15n",
        "outputId": "cdc3e2c3-5bdd-4684-ca7e-adb6584070f8"
      },
      "execution_count": 5,
      "outputs": [
        {
          "output_type": "stream",
          "name": "stdout",
          "text": [
            "Season_Group\n",
            "Other Seasons    39141\n",
            "Summer           13303\n",
            "Name: count, dtype: int64\n"
          ]
        }
      ]
    },
    {
      "cell_type": "code",
      "source": [
        "# Map the Preference column for better interpretation (assuming 0: Mountains, 1: Beaches)\n",
        "# Map the Preference column to meaningful labels\n",
        "df['Preference_Label'] = df['Preference'].map({0: 'Mountains', 1: 'Beaches'})\n",
        "print(df['Preference_Label'].value_counts())\n",
        "# Cross-tabulation of Favorite_Season vs Preference\n",
        "season_preference_ct = pd.crosstab(df['Season_Group'], df['Preference_Label'])\n",
        "print(season_preference_ct)"
      ],
      "metadata": {
        "colab": {
          "base_uri": "https://localhost:8080/"
        },
        "id": "jq4RnuHsp5l4",
        "outputId": "739b448b-7703-4a57-8954-0e613ef166c4"
      },
      "execution_count": 6,
      "outputs": [
        {
          "output_type": "stream",
          "name": "stdout",
          "text": [
            "Preference_Label\n",
            "Mountains    39296\n",
            "Beaches      13148\n",
            "Name: count, dtype: int64\n",
            "Preference_Label  Beaches  Mountains\n",
            "Season_Group                        \n",
            "Other Seasons        9848      29293\n",
            "Summer               3300      10003\n"
          ]
        }
      ]
    },
    {
      "cell_type": "code",
      "source": [
        "# Normalize the cross-tabulation by row to calculate proportions\n",
        "season_preference_ratio = season_preference_ct.div(season_preference_ct.sum(axis=1), axis=0)"
      ],
      "metadata": {
        "id": "s-3AXtHp6Ssj"
      },
      "execution_count": 7,
      "outputs": []
    },
    {
      "cell_type": "markdown",
      "source": [
        "season_preference_ct.sum(axis=1) computes the total count for each row (i.e., the total preferences within each season group):\n",
        "\n",
        "For Summer: 3300 (Beaches) + 10003 (Mountains) = 13303\n",
        "\n",
        "For Other Seasons: 9848 (Beaches) + 29293 (Mountains) = 39141"
      ],
      "metadata": {
        "id": "Y21Jcd2M6P-S"
      }
    },
    {
      "cell_type": "markdown",
      "source": [
        "The .div(..., axis=0) divides each element in season_preference_ct by the corresponding row total. Since axis=0 specifies rows, the division happens row-wise.\n",
        "\n",
        "For example:\n",
        "\n",
        "# For Summer:\n",
        "\n",
        "**Proportion of Beaches:**\n",
        "\n",
        "3300/\n",
        "13303\n",
        "≈\n",
        "0.248\n",
        "\n",
        "\n",
        "**Proportion of Mountains:**\n",
        "\n",
        "10003/\n",
        "13303\n",
        "≈\n",
        "0.752\n",
        "\n",
        "# For Other Seasons:\n",
        "\n",
        "**Proportion of Beaches:**\n",
        "\n",
        "39141/\n",
        "9848\n",
        "​\n",
        " ≈0.251\n",
        "\n",
        "**Proportion of Mountains:**\n",
        "\n",
        "39141/\n",
        "29293\n",
        "​\n",
        " ≈0.749"
      ],
      "metadata": {
        "id": "IzyRDcC56gt5"
      }
    },
    {
      "cell_type": "code",
      "source": [
        "# Plot the normalized data\n",
        "season_preference_ratio.plot(kind='bar', figsize=(8, 6), stacked=True)\n",
        "\n",
        "# Customize the plot\n",
        "plt.title('Preferences for Beaches vs Mountains by Season Group (Proportion)', fontsize=14)\n",
        "plt.xlabel('Season Group', fontsize=12)\n",
        "plt.ylabel('Proportion', fontsize=12)\n",
        "plt.xticks(rotation=0)\n",
        "plt.legend(title='Preference', fontsize=10)\n",
        "plt.show()\n",
        "\n"
      ],
      "metadata": {
        "colab": {
          "base_uri": "https://localhost:8080/",
          "height": 569
        },
        "id": "bUNKkM5wksms",
        "outputId": "f4a55cbd-bd04-4fe5-8296-8121896e81d1"
      },
      "execution_count": 8,
      "outputs": [
        {
          "output_type": "display_data",
          "data": {
            "text/plain": [
              "<Figure size 800x600 with 1 Axes>"
            ],
            "image/png": "[encoded data removed]"
          },
          "metadata": {}
        }
      ]
    },
    {
      "cell_type": "markdown",
      "source": [
        "After normalization, we eliminate the influence of the total group size, allowing us to directly compare proportions and better identify genuine preference differences.\n",
        "\n",
        "If we use absolute counts, groups with larger sizes will dominate the analysis. Normalization brings all groups to the same scale, enabling a fairer comparison across them."
      ],
      "metadata": {
        "id": "zuMv2nDfsq83"
      }
    },
    {
      "cell_type": "markdown",
      "source": [
        "#Perform statistical analysis:\n",
        "\n",
        "A chi-square test is used to determine whether there is a significant association\n",
        "between two categorical variables: Season Group (Summer vs. Other Seasons)\n",
        "and Vacation Preference (Beaches vs. Mountains).\n",
        "\n",
        "**Null Hypothesis** (\n",
        "H\n",
        "0\n",
        "​\n",
        " ):\n",
        "There is no association between the season group (Summer vs. Other Seasons) and vacation preferences (Beaches vs. Mountains). This means the two variables are independent.\n",
        "\n",
        "**Alternative Hypothesis** (\n",
        "H\n",
        "1\n",
        "​\n",
        " ):\n",
        "There is an association between the season group (Summer vs. Other Seasons) and vacation preferences (Beaches vs. Mountains). This means the two variables are dependent.\n",
        "- `season_preference_ct` is the cross-tabulation of observed counts.\n",
        "- `chi2_contingency` computes:\n",
        "- Chi-square statistic (`chi2`): measures the divergence of observed data\n",
        "from what is expected under the null hypothesis (independence).\n",
        "- p-value (`p`): determines statistical significance.\n",
        "- Degrees of Freedom (`dof`): number of independent values in the data.\n",
        "- Expected frequencies (`expected`): theoretical counts assuming independence.\n"
      ],
      "metadata": {
        "id": "Gz1elSgiUrYm"
      }
    },
    {
      "cell_type": "code",
      "source": [
        "from scipy.stats import chi2_contingency\n",
        "\n",
        "# Perform a chi-square test on the original cross-tabulation (counts)\n",
        "chi2, p, dof, expected = chi2_contingency(season_preference_ct)\n",
        "\n",
        "# Output the results of the chi-square test\n",
        "statistical_analysis_results = {\n",
        "    \"Chi-square Statistic\": chi2,\n",
        "    \"p-value\": p,\n",
        "    \"Degrees of Freedom\": dof,\n",
        "    \"Expected Frequencies\": expected\n",
        "}\n",
        "\n",
        "print(statistical_analysis_results)\n",
        "\n",
        "# Set significance level\n",
        "alpha = 0.05\n",
        "print(\"p-value is \" + str(p))\n",
        "if p <= alpha:\n",
        "    print(\"Dependent (reject H0): There is a significant association between Season Group and Preference.\")\n",
        "else:\n",
        "    print(\"Independent (H0 holds true): There is no significant association between Season Group and Preference.\")\n",
        "\n",
        "\n"
      ],
      "metadata": {
        "colab": {
          "base_uri": "https://localhost:8080/"
        },
        "id": "eYCUf8kUmXwN",
        "outputId": "b15ba819-8374-43b0-cbc5-be66a7a5d7f3"
      },
      "execution_count": 9,
      "outputs": [
        {
          "output_type": "stream",
          "name": "stdout",
          "text": [
            "{'Chi-square Statistic': 0.6431907153672198, 'p-value': 0.42255774916656974, 'Degrees of Freedom': 1, 'Expected Frequencies': array([[ 9812.86454122, 29328.13545878],\n",
            "       [ 3335.13545878,  9967.86454122]])}\n",
            "p-value is 0.42255774916656974\n",
            "Independent (H0 holds true): There is no significant association between Season Group and Preference.\n"
          ]
        }
      ]
    },
    {
      "cell_type": "markdown",
      "source": [
        "The p-value suggests that there is no statistically significant association between the favorite season and the preference for beaches or mountains. This implies that people's preferences for beaches or mountains are not strongly influenced by their favorite season, including summer.\n",
        "\n",
        "\n"
      ],
      "metadata": {
        "id": "TEQUy36KsuqU"
      }
    },
    {
      "cell_type": "code",
      "source": [
        "# Ensure expected_df has meaningful column names and indices\n",
        "expected_df = pd.DataFrame(expected, columns=season_preference_ct.columns, index=season_preference_ct.index)\n",
        "\n",
        "# Visualize actual vs expected frequencies\n",
        "fig, ax = plt.subplots(figsize=(10, 6))\n",
        "\n",
        "# Actual frequencies\n",
        "actual_colors = ['#1f77b4', '#ff7f0e']  # Blue and orange for actual\n",
        "sns.barplot(data=season_preference_ct.reset_index().melt(id_vars='Season_Group'),\n",
        "            x='Season_Group', y='value', hue='Preference_Label', palette=actual_colors, ax=ax, alpha=0.8)\n",
        "\n",
        "# Expected frequencies\n",
        "expected_colors = ['#aec7e8', '#ffbb78']  # Light blue and light orange for expected\n",
        "sns.barplot(data=expected_df.reset_index().melt(id_vars='Season_Group'),\n",
        "            x='Season_Group', y='value', hue='Preference_Label', palette=expected_colors, ax=ax, alpha=0.5)\n",
        "\n",
        "# Adjust the legend to distinguish actual vs expected\n",
        "handles, labels = ax.get_legend_handles_labels()\n",
        "legend_labels = [\"Beaches\", \"Mountains\"]\n",
        "ax.legend(handles=handles[:2] + handles[2:], labels=legend_labels, title=\"Preferences\", loc='upper right')\n",
        "\n",
        "# Annotate bars with values\n",
        "for i, bar in enumerate(ax.patches[:len(season_preference_ct.values.flatten())]):\n",
        "    ax.text(bar.get_x() + bar.get_width() / 2, bar.get_height() + 500,\n",
        "            f\"{int(bar.get_height())}\", ha='center', fontsize=9)\n",
        "\n",
        "# Add chi-square test result to the plot\n",
        "ax.text(0.5, max(season_preference_ct.values.flatten()) + 3000,\n",
        "        f\"$\\\\chi^2 = {chi2:.2f}, p = {p:.3f}$\", ha='center', fontsize=12)\n",
        "\n",
        "# Add titles and labels\n",
        "plt.title(\"Actual vs. Expected Preferences for Beaches and Mountains\", fontsize=14)\n",
        "plt.ylabel(\"Frequency\", fontsize=12)\n",
        "plt.xlabel(\"Season Group\", fontsize=12)\n",
        "plt.xticks(fontsize=10)\n",
        "plt.yticks(fontsize=10)\n",
        "plt.tight_layout()\n",
        "\n",
        "# Save and display the plot\n",
        "fixed_plot_path = \"/content/fixed_preference_plot.png\"\n",
        "plt.savefig(fixed_plot_path)\n",
        "plt.show()\n",
        "\n",
        "fixed_plot_path\n",
        "\n"
      ],
      "metadata": {
        "colab": {
          "base_uri": "https://localhost:8080/",
          "height": 625
        },
        "id": "FV0-cA87eS5D",
        "outputId": "12a96ae0-9b14-4df1-e007-c960504d4265"
      },
      "execution_count": 18,
      "outputs": [
        {
          "output_type": "display_data",
          "data": {
            "text/plain": [
              "<Figure size 1000x600 with 1 Axes>"
            ],
            "image/png": "[encoded data removed]"
          },
          "metadata": {}
        },
        {
          "output_type": "execute_result",
          "data": {
            "text/plain": [
              "'/content/fixed_preference_plot.png'"
            ],
            "application/vnd.google.colaboratory.intrinsic+json": {
              "type": "string"
            }
          },
          "metadata": {},
          "execution_count": 18
        }
      ]
    },
    {
      "cell_type": "markdown",
      "source": [
        "# Takeaways:\n",
        "- The analysis shows no strong evidence to suggest that people who like summer\n",
        "prefer beaches over mountains more than those who like other seasons.\n",
        "- Normalizing group sizes and using statistical tests ensures that the analysis\n",
        "is fair and interpretable, even for groups of differing sizes.\n"
      ],
      "metadata": {
        "id": "ncaqI1oEUW4T"
      }
    },
    {
      "cell_type": "code",
      "source": [],
      "metadata": {
        "id": "1dY7MHbamyrO"
      },
      "execution_count": 9,
      "outputs": []
    },
    {
      "cell_type": "code",
      "source": [],
      "metadata": {
        "id": "XPPdOz5eoOK1"
      },
      "execution_count": 9,
      "outputs": []
    }
  ]
}
